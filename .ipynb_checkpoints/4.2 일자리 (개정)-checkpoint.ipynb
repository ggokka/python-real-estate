{
 "cells": [
  {
   "cell_type": "code",
   "execution_count": 3,
   "metadata": {},
   "outputs": [],
   "source": [
    "# [예제 4.27] 지역고용통계 데이터 읽어오기\n",
    "\n",
    "import pandas as pd\n",
    "\n",
    "# job_path = r'C:\\Users\\JK\\Desktop\\부동산 데이터\\지역고용통계.xls'\n",
    "job_path = r'데이터\\지역고용통계_20191112213346.xlsx'\n",
    "#job_raw = pd.read_excel(job_path, skiprows=2)\n",
    "job_raw = pd.read_excel(job_path)"
   ]
  },
  {
   "cell_type": "code",
   "execution_count": 4,
   "metadata": {
    "scrolled": false
   },
   "outputs": [
    {
     "ename": "KeyError",
     "evalue": "\"['전체종사자 (명)'] not in index\"",
     "output_type": "error",
     "traceback": [
      "\u001b[1;31m---------------------------------------------------------------------------\u001b[0m",
      "\u001b[1;31mKeyError\u001b[0m                                  Traceback (most recent call last)",
      "\u001b[1;32m<ipython-input-4-ddbcf7d1a088>\u001b[0m in \u001b[0;36m<module>\u001b[1;34m\u001b[0m\n\u001b[0;32m      2\u001b[0m \u001b[1;33m\u001b[0m\u001b[0m\n\u001b[0;32m      3\u001b[0m \u001b[0mjob_data\u001b[0m \u001b[1;33m=\u001b[0m \u001b[0mjob_raw\u001b[0m\u001b[1;33m[\u001b[0m\u001b[0mjob_raw\u001b[0m\u001b[1;33m[\u001b[0m\u001b[1;34m'산업별'\u001b[0m\u001b[1;33m]\u001b[0m \u001b[1;33m==\u001b[0m \u001b[1;34m'전산업'\u001b[0m\u001b[1;33m]\u001b[0m\u001b[1;33m\u001b[0m\u001b[1;33m\u001b[0m\u001b[0m\n\u001b[1;32m----> 4\u001b[1;33m \u001b[0mjob_data\u001b[0m \u001b[1;33m=\u001b[0m \u001b[0mjob_data\u001b[0m\u001b[1;33m[\u001b[0m\u001b[1;33m[\u001b[0m\u001b[1;34m'지역별'\u001b[0m\u001b[1;33m,\u001b[0m \u001b[1;34m'전체종사자 (명)'\u001b[0m\u001b[1;33m]\u001b[0m\u001b[1;33m]\u001b[0m\u001b[1;33m\u001b[0m\u001b[1;33m\u001b[0m\u001b[0m\n\u001b[0m\u001b[0;32m      5\u001b[0m \u001b[0mjob_data\u001b[0m\u001b[1;33m.\u001b[0m\u001b[0mcolumns\u001b[0m \u001b[1;33m=\u001b[0m \u001b[1;33m[\u001b[0m\u001b[1;34m'지역명'\u001b[0m\u001b[1;33m,\u001b[0m  \u001b[1;34m'고용자수'\u001b[0m\u001b[1;33m]\u001b[0m\u001b[1;33m\u001b[0m\u001b[1;33m\u001b[0m\u001b[0m\n",
      "\u001b[1;32mc:\\program files\\python37\\lib\\site-packages\\pandas\\core\\frame.py\u001b[0m in \u001b[0;36m__getitem__\u001b[1;34m(self, key)\u001b[0m\n\u001b[0;32m   2999\u001b[0m             \u001b[1;32mif\u001b[0m \u001b[0mis_iterator\u001b[0m\u001b[1;33m(\u001b[0m\u001b[0mkey\u001b[0m\u001b[1;33m)\u001b[0m\u001b[1;33m:\u001b[0m\u001b[1;33m\u001b[0m\u001b[1;33m\u001b[0m\u001b[0m\n\u001b[0;32m   3000\u001b[0m                 \u001b[0mkey\u001b[0m \u001b[1;33m=\u001b[0m \u001b[0mlist\u001b[0m\u001b[1;33m(\u001b[0m\u001b[0mkey\u001b[0m\u001b[1;33m)\u001b[0m\u001b[1;33m\u001b[0m\u001b[1;33m\u001b[0m\u001b[0m\n\u001b[1;32m-> 3001\u001b[1;33m             \u001b[0mindexer\u001b[0m \u001b[1;33m=\u001b[0m \u001b[0mself\u001b[0m\u001b[1;33m.\u001b[0m\u001b[0mloc\u001b[0m\u001b[1;33m.\u001b[0m\u001b[0m_convert_to_indexer\u001b[0m\u001b[1;33m(\u001b[0m\u001b[0mkey\u001b[0m\u001b[1;33m,\u001b[0m \u001b[0maxis\u001b[0m\u001b[1;33m=\u001b[0m\u001b[1;36m1\u001b[0m\u001b[1;33m,\u001b[0m \u001b[0mraise_missing\u001b[0m\u001b[1;33m=\u001b[0m\u001b[1;32mTrue\u001b[0m\u001b[1;33m)\u001b[0m\u001b[1;33m\u001b[0m\u001b[1;33m\u001b[0m\u001b[0m\n\u001b[0m\u001b[0;32m   3002\u001b[0m \u001b[1;33m\u001b[0m\u001b[0m\n\u001b[0;32m   3003\u001b[0m         \u001b[1;31m# take() does not accept boolean indexers\u001b[0m\u001b[1;33m\u001b[0m\u001b[1;33m\u001b[0m\u001b[1;33m\u001b[0m\u001b[0m\n",
      "\u001b[1;32mc:\\program files\\python37\\lib\\site-packages\\pandas\\core\\indexing.py\u001b[0m in \u001b[0;36m_convert_to_indexer\u001b[1;34m(self, obj, axis, is_setter, raise_missing)\u001b[0m\n\u001b[0;32m   1283\u001b[0m                 \u001b[1;31m# When setting, missing keys are not allowed, even with .loc:\u001b[0m\u001b[1;33m\u001b[0m\u001b[1;33m\u001b[0m\u001b[1;33m\u001b[0m\u001b[0m\n\u001b[0;32m   1284\u001b[0m                 \u001b[0mkwargs\u001b[0m \u001b[1;33m=\u001b[0m \u001b[1;33m{\u001b[0m\u001b[1;34m\"raise_missing\"\u001b[0m\u001b[1;33m:\u001b[0m \u001b[1;32mTrue\u001b[0m \u001b[1;32mif\u001b[0m \u001b[0mis_setter\u001b[0m \u001b[1;32melse\u001b[0m \u001b[0mraise_missing\u001b[0m\u001b[1;33m}\u001b[0m\u001b[1;33m\u001b[0m\u001b[1;33m\u001b[0m\u001b[0m\n\u001b[1;32m-> 1285\u001b[1;33m                 \u001b[1;32mreturn\u001b[0m \u001b[0mself\u001b[0m\u001b[1;33m.\u001b[0m\u001b[0m_get_listlike_indexer\u001b[0m\u001b[1;33m(\u001b[0m\u001b[0mobj\u001b[0m\u001b[1;33m,\u001b[0m \u001b[0maxis\u001b[0m\u001b[1;33m,\u001b[0m \u001b[1;33m**\u001b[0m\u001b[0mkwargs\u001b[0m\u001b[1;33m)\u001b[0m\u001b[1;33m[\u001b[0m\u001b[1;36m1\u001b[0m\u001b[1;33m]\u001b[0m\u001b[1;33m\u001b[0m\u001b[1;33m\u001b[0m\u001b[0m\n\u001b[0m\u001b[0;32m   1286\u001b[0m         \u001b[1;32melse\u001b[0m\u001b[1;33m:\u001b[0m\u001b[1;33m\u001b[0m\u001b[1;33m\u001b[0m\u001b[0m\n\u001b[0;32m   1287\u001b[0m             \u001b[1;32mtry\u001b[0m\u001b[1;33m:\u001b[0m\u001b[1;33m\u001b[0m\u001b[1;33m\u001b[0m\u001b[0m\n",
      "\u001b[1;32mc:\\program files\\python37\\lib\\site-packages\\pandas\\core\\indexing.py\u001b[0m in \u001b[0;36m_get_listlike_indexer\u001b[1;34m(self, key, axis, raise_missing)\u001b[0m\n\u001b[0;32m   1090\u001b[0m \u001b[1;33m\u001b[0m\u001b[0m\n\u001b[0;32m   1091\u001b[0m         self._validate_read_indexer(\n\u001b[1;32m-> 1092\u001b[1;33m             \u001b[0mkeyarr\u001b[0m\u001b[1;33m,\u001b[0m \u001b[0mindexer\u001b[0m\u001b[1;33m,\u001b[0m \u001b[0mo\u001b[0m\u001b[1;33m.\u001b[0m\u001b[0m_get_axis_number\u001b[0m\u001b[1;33m(\u001b[0m\u001b[0maxis\u001b[0m\u001b[1;33m)\u001b[0m\u001b[1;33m,\u001b[0m \u001b[0mraise_missing\u001b[0m\u001b[1;33m=\u001b[0m\u001b[0mraise_missing\u001b[0m\u001b[1;33m\u001b[0m\u001b[1;33m\u001b[0m\u001b[0m\n\u001b[0m\u001b[0;32m   1093\u001b[0m         )\n\u001b[0;32m   1094\u001b[0m         \u001b[1;32mreturn\u001b[0m \u001b[0mkeyarr\u001b[0m\u001b[1;33m,\u001b[0m \u001b[0mindexer\u001b[0m\u001b[1;33m\u001b[0m\u001b[1;33m\u001b[0m\u001b[0m\n",
      "\u001b[1;32mc:\\program files\\python37\\lib\\site-packages\\pandas\\core\\indexing.py\u001b[0m in \u001b[0;36m_validate_read_indexer\u001b[1;34m(self, key, indexer, axis, raise_missing)\u001b[0m\n\u001b[0;32m   1183\u001b[0m             \u001b[1;32mif\u001b[0m \u001b[1;32mnot\u001b[0m \u001b[1;33m(\u001b[0m\u001b[0mself\u001b[0m\u001b[1;33m.\u001b[0m\u001b[0mname\u001b[0m \u001b[1;33m==\u001b[0m \u001b[1;34m\"loc\"\u001b[0m \u001b[1;32mand\u001b[0m \u001b[1;32mnot\u001b[0m \u001b[0mraise_missing\u001b[0m\u001b[1;33m)\u001b[0m\u001b[1;33m:\u001b[0m\u001b[1;33m\u001b[0m\u001b[1;33m\u001b[0m\u001b[0m\n\u001b[0;32m   1184\u001b[0m                 \u001b[0mnot_found\u001b[0m \u001b[1;33m=\u001b[0m \u001b[0mlist\u001b[0m\u001b[1;33m(\u001b[0m\u001b[0mset\u001b[0m\u001b[1;33m(\u001b[0m\u001b[0mkey\u001b[0m\u001b[1;33m)\u001b[0m \u001b[1;33m-\u001b[0m \u001b[0mset\u001b[0m\u001b[1;33m(\u001b[0m\u001b[0max\u001b[0m\u001b[1;33m)\u001b[0m\u001b[1;33m)\u001b[0m\u001b[1;33m\u001b[0m\u001b[1;33m\u001b[0m\u001b[0m\n\u001b[1;32m-> 1185\u001b[1;33m                 \u001b[1;32mraise\u001b[0m \u001b[0mKeyError\u001b[0m\u001b[1;33m(\u001b[0m\u001b[1;34m\"{} not in index\"\u001b[0m\u001b[1;33m.\u001b[0m\u001b[0mformat\u001b[0m\u001b[1;33m(\u001b[0m\u001b[0mnot_found\u001b[0m\u001b[1;33m)\u001b[0m\u001b[1;33m)\u001b[0m\u001b[1;33m\u001b[0m\u001b[1;33m\u001b[0m\u001b[0m\n\u001b[0m\u001b[0;32m   1186\u001b[0m \u001b[1;33m\u001b[0m\u001b[0m\n\u001b[0;32m   1187\u001b[0m             \u001b[1;31m# we skip the warning on Categorical/Interval\u001b[0m\u001b[1;33m\u001b[0m\u001b[1;33m\u001b[0m\u001b[1;33m\u001b[0m\u001b[0m\n",
      "\u001b[1;31mKeyError\u001b[0m: \"['전체종사자 (명)'] not in index\""
     ]
    }
   ],
   "source": [
    "# [예제 4.28] 데이터프레임 다듬기\n",
    "\n",
    "job_data = job_raw[job_raw['산업별'] == '전산업']\n",
    "job_data = job_data[['지역별', '전체종사자 (명)']]\n",
    "job_data.columns = ['지역명',  '고용자수']"
   ]
  },
  {
   "cell_type": "code",
   "execution_count": null,
   "metadata": {},
   "outputs": [],
   "source": [
    "# [예제 4.29] 지역명 나누기(ch04/ 4.2 일자리.ipynb)\n",
    "\n",
    "def get_sido(x):\n",
    "    temp = x.split(' ')[0]\n",
    "    if len(temp) != 4:\n",
    "        return temp[:2]\n",
    "    else:\n",
    "        return temp[0] + temp[2]\n",
    "\n",
    "job_data['시도'] = job_data['지역명'].apply(get_sido)\n",
    "job_data['구군'] = job_data['지역명'].apply(lambda x: x.split(' ')[1])"
   ]
  },
  {
   "cell_type": "code",
   "execution_count": null,
   "metadata": {},
   "outputs": [],
   "source": [
    "# [예제 4.30] 지역고용통계 전처리 과정 정리해서 함수화\n",
    "\n",
    "def job_preprocessing(path):\n",
    "    job_raw = pd.read_excel(path, skiprows=2)\n",
    "    job_data = job_raw[job_raw['산업별'] == '전산업']\n",
    "    job_data = job_data[['지역별', '전체종사자 (명)']]\n",
    "    job_data.columns = ['지역명',  '고용자수']\n",
    "    \n",
    "    def get_sido(x):\n",
    "        temp = x.split(' ')[0]\n",
    "        if len(temp) != 4:\n",
    "            return temp[:2]\n",
    "        else:\n",
    "            return temp[0] + temp[2]\n",
    "\n",
    "    job_data['시도'] = job_data['지역명'].apply(get_sido)\n",
    "    job_data['구군'] = job_data['지역명'].apply(lambda x: x.split(' ')[1])\n",
    "    \n",
    "    return job_data"
   ]
  },
  {
   "cell_type": "code",
   "execution_count": null,
   "metadata": {},
   "outputs": [],
   "source": [
    "# [예제 4.31] 세대수 엑셀 데이터 읽어오기\n",
    "\n",
    "# house_n_path = r'C:\\Users\\JK\\Desktop\\부동산 데이터\\행정구역_시군구_별_주민등록세대수_20190107134842.xlsx'\n",
    "house_n_path = r' 세대수 데이터 디렉터리 \\ 세대수 데이터 엑셀파일명.xlsx'\n",
    "house_n_raw = pd.read_excel(house_n_path)"
   ]
  },
  {
   "cell_type": "code",
   "execution_count": null,
   "metadata": {},
   "outputs": [],
   "source": [
    "# [예제 4.32] 세대수 데이터프레임에서 시도명 고치기\n",
    "\n",
    "house_n_raw.columns = ['시도', '구군', '세대수']\n",
    "\n",
    "big_col = []\n",
    "for num, temp in enumerate(house_n_raw['시도']):\n",
    "    if pd.isna(temp) :\n",
    "        big_col.append(big_col[num-1])\n",
    "    else:\n",
    "        big_col.append(temp)\n",
    "\n",
    "house_n_raw['시도'] = big_col"
   ]
  },
  {
   "cell_type": "code",
   "execution_count": null,
   "metadata": {},
   "outputs": [],
   "source": [
    "# [예제 4.33] 세대수 데이터프레임에서 시도명 줄임말로 고치기\n",
    "\n",
    "def get_sido(x):\n",
    "    if len(x) != 4:\n",
    "        return x[:2]\n",
    "    else:\n",
    "        return x[0] + x[2]\n",
    "\n",
    "house_n_raw['시도'] = house_n_raw['시도'].apply(get_sido)\n",
    "house_n_data = house_n_raw[house_n_raw['구군'] != '소계']"
   ]
  },
  {
   "cell_type": "code",
   "execution_count": null,
   "metadata": {
    "scrolled": false
   },
   "outputs": [],
   "source": [
    "# [예제 4.34] 세대수 데이터 전처리 과정 함수화(ch04/ 4.2 일자리.ipynb)\n",
    "\n",
    "def house_number_preprocessing(path):\n",
    "    house_n_raw = pd.read_excel(path)\n",
    "    house_n_raw.columns = ['시도', '구군', '세대수']\n",
    "\n",
    "    big_col = []\n",
    "    for num, temp in enumerate(house_n_raw['시도']):\n",
    "        if pd.isna(temp) :\n",
    "            big_col.append(big_col[num-1])\n",
    "        else:\n",
    "            big_col.append(temp)\n",
    "\n",
    "    house_n_raw['시도'] = big_col\n",
    "    \n",
    "    def get_sido(x):\n",
    "        if len(x) != 4:\n",
    "            return x[:2]\n",
    "        else:\n",
    "            return x[0] + x[2]\n",
    "\n",
    "    house_n_raw['시도'] = house_n_raw['시도'].apply(get_sido)\n",
    "    house_n_data = house_n_raw[house_n_raw['구군'] != '소계']\n",
    "    \n",
    "    return house_n_data"
   ]
  },
  {
   "cell_type": "code",
   "execution_count": null,
   "metadata": {},
   "outputs": [],
   "source": [
    "# [예제 4.35] 시도 단위로 고용자수 보기\n",
    "\n",
    "job_path = r' 고용 데이터 파일 디렉터리 \\ 지역고용통계.xls'\n",
    "job_df = job_preprocessing(job_path)\n",
    "\n",
    "job_sido = job_df.groupby('시도').sum()\n",
    "job_sido = job_sido.sort_values(by='고용자수', ascending=False)"
   ]
  },
  {
   "cell_type": "code",
   "execution_count": null,
   "metadata": {},
   "outputs": [],
   "source": [
    "# [예제 4.36] 시도 단위의 고용자수를 막대 그래프로 보기 \n",
    "\n",
    "import matplotlib.pyplot as plt\n",
    "from matplotlib import font_manager, rc\n",
    "from matplotlib import style\n",
    "import seaborn as sns\n",
    "style.use('ggplot')\n",
    "%matplotlib inline\n",
    "\n",
    "font_name = font_manager.FontProperties(fname=\"c:/Windows/Fonts/malgun.ttf\").get_name()\n",
    "rc('font', family=font_name)\n",
    "# 맥OS인 경우 위 두 줄을 입력하지 말고 아래 코드를 입력하세요\n",
    "# rc('font', family='AppleGothic')\n",
    "plt.rcParams['axes.unicode_minus'] = False\n",
    "\n",
    "\n",
    "plt.figure(figsize=(12, 4))\n",
    "job_sido['고용자수'].plot(kind='bar', color='darkcyan')\n",
    "plt.axhline(y=job_sido['고용자수'].mean(), color='orange', linewidth=2, ls='--')\n",
    "plt.xticks(rotation=0)\n",
    "plt.xlabel('')\n",
    "plt.ylabel('고용자수')\n",
    "plt.show()"
   ]
  },
  {
   "cell_type": "code",
   "execution_count": null,
   "metadata": {},
   "outputs": [],
   "source": [
    "# [예제 4.37] 세대수 데이터 추가\n",
    "\n",
    "house_n_path = r' 세대수 데이터 디렉터리 \\ 세대수 데이터 엑셀파일명.xlsx'\n",
    "house_n_df = house_number_preprocessing(house_n_path)\n",
    "\n",
    "job_sido['세대수'] = house_n_df.groupby('시도').sum().loc[job_sido.index]\n",
    "job_sido['세대수대비고용'] = job_sido['고용자수']/job_sido['세대수'] * 100"
   ]
  },
  {
   "cell_type": "code",
   "execution_count": null,
   "metadata": {},
   "outputs": [],
   "source": [
    "# [예제 4.38] 시도 단위 세대구 대비 고용비율 막대 그래프로 보기\n",
    "\n",
    "plt.figure(figsize=(12, 4))\n",
    "job_sido.sort_values(by='세대수대비고용', ascending=False)['세대수대비고용'].plot(kind='bar', color='darkcyan')\n",
    "plt.axhline(y=job_sido['세대수대비고용'].mean(), color='orange', linewidth=2, ls='--')\n",
    "plt.xticks(rotation=0)\n",
    "plt.xlabel('')\n",
    "plt.ylabel('세대수 대비 고용자수 (%)')\n",
    "plt.show()"
   ]
  },
  {
   "cell_type": "code",
   "execution_count": null,
   "metadata": {},
   "outputs": [],
   "source": [
    "# [예제 4.39] 평균 아파트 매매가격 가져오기\n",
    "\n",
    "def gamjungwon_price_preprocessing(path):\n",
    "    row_price = pd.read_excel(path, skiprows=10)\n",
    "    \n",
    "    big_col = []\n",
    "    for num, temp in enumerate(row_price['지 역']):\n",
    "        if pd.isna(temp) :\n",
    "            big_col.append(big_col[num-1])\n",
    "        else:\n",
    "            big_col.append(temp)\n",
    "\n",
    "\n",
    "    small_col = []\n",
    "    for num in range(len(row_price)):\n",
    "        temp_list = list(row_price[['지 역', 'Unnamed: 1', 'Unnamed: 2', 'Unnamed: 3']].iloc[num])\n",
    "        for temp in temp_list[3::-1]:\n",
    "            if not pd.isna(temp):\n",
    "                small_col.append(temp)\n",
    "                break\n",
    "\n",
    "    row_price.index = [big_col, small_col]\n",
    "    \n",
    "    transposed_price = row_price.drop(['지 역', 'Unnamed: 1', 'Unnamed: 2', 'Unnamed: 3'], axis=1).T\n",
    "    \n",
    "    time_index = []\n",
    "    for time in transposed_price.index:\n",
    "        temp = time.split(' ')\n",
    "        time_index.append(temp[0][:-1]+'.'+temp[1][:-1])\n",
    "\n",
    "    transposed_price.index = pd.to_datetime(time_index)\n",
    "    \n",
    "    return transposed_price\n",
    "\n",
    "\n",
    "price_path =  r' 평균 아파트 매매가격 데이터 디렉터리 \\ 평균 아파트 매매가격 데이터 엑셀 파일명.xlsx'\n",
    "price_df = gamjungwon_price_preprocessing(price_path)"
   ]
  },
  {
   "cell_type": "code",
   "execution_count": null,
   "metadata": {},
   "outputs": [],
   "source": [
    "# [예제 4.40] 고용자수, 세대수, 평균 아파트 매매가격 scatter 그래프로 나타내기\n",
    "\n",
    "sido_list = []\n",
    "for i in job_sido.index:\n",
    "    sido_list.append(price_df.loc['2018-6-1'][i][i])\n",
    "      \n",
    "job_sido['평균매매가격'] = sido_list\n",
    "\n",
    "plt.figure(figsize=(10, 6))\n",
    "plt.scatter(job_sido['고용자수'], job_sido['세대수'], c=job_sido['평균매매가격'], s=job_sido['평균매매가격']*0.001, cmap=\"YlOrRd\", alpha=0.5 )\n",
    "plt.xlabel('고용자수')\n",
    "plt.ylabel('세대수')\n",
    "for name in job_sido.index:\n",
    "    plt.text(job_sido['고용자수'][name]*1.01, job_sido['세대수'][name]*1.05, name, fontsize=13)\n",
    "\n",
    "plt.colorbar()\n",
    "plt.show()"
   ]
  },
  {
   "cell_type": "code",
   "execution_count": null,
   "metadata": {},
   "outputs": [],
   "source": [
    "# [예제 4.41] 세대수 대비 고용비율, 세대수, 평균 아파트 매매가격 scatter 그래프로 나타내기\n",
    "\n",
    "plt.figure(figsize=(10, 6))\n",
    "plt.scatter(job_sido['세대수대비고용'], job_sido['세대수'], c=job_sido['평균매매가격'], s=job_sido['평균매매가격']*0.001, cmap=\"YlOrRd\", alpha=0.5 )\n",
    "plt.xlabel('세대수 대비 고용자수 (%)')\n",
    "plt.ylabel('세대수')\n",
    "for name in job_sido.index:\n",
    "    plt.text(job_sido['세대수대비고용'][name]*1.01, job_sido['세대수'][name]*1.05, name, fontsize=13)\n",
    "\n",
    "plt.colorbar()\n",
    "plt.show()"
   ]
  },
  {
   "cell_type": "code",
   "execution_count": null,
   "metadata": {},
   "outputs": [],
   "source": [
    "# [예제 4.42] 서울시 고용자수, 세대수, 평균 매매가격 데이터프레임 만들기\n",
    "\n",
    "local = '서울'\n",
    "\n",
    "job_gugun = job_df[job_df['시도']==local].groupby('구군').sum()\n",
    "job_gugun['세대수'] = house_n_df[house_n_df['시도'] == local].groupby('구군').sum().loc[job_gugun.index]\n",
    "job_gugun['세대수대비고용'] = job_gugun['고용자수']/job_gugun['세대수'] * 100\n",
    "job_gugun['평균매매가격'] = price_df.loc['2018-6-1'][local][job_gugun.index]\n",
    "job_gugun = job_gugun.dropna()"
   ]
  },
  {
   "cell_type": "code",
   "execution_count": null,
   "metadata": {},
   "outputs": [],
   "source": [
    "# [예제 4.43] 서울시의 고용자수, 세대수 대비 고용비율 막대 그래프 그리기\n",
    "\n",
    "plt.figure(figsize=(12, 4))\n",
    "job_gugun.sort_values(by='고용자수', ascending=False)['고용자수'].plot(kind='bar', color='darkcyan')\n",
    "plt.axhline(y=job_gugun['고용자수'].mean(), color='orange', linewidth=2, ls='--')\n",
    "plt.xticks(rotation=45)\n",
    "plt.xlabel('')\n",
    "plt.ylabel('고용자수')\n",
    "plt.show()\n",
    "\n",
    "plt.figure(figsize=(12, 4))\n",
    "job_gugun.sort_values(by='세대수대비고용', ascending=False)['세대수대비고용'].plot(kind='bar', color='darkcyan')\n",
    "plt.axhline(y=job_sido['세대수대비고용'].mean(), color='orange', linewidth=2, ls='--')\n",
    "plt.xticks(rotation=45)\n",
    "plt.xlabel('')\n",
    "plt.ylabel('세대수 대비 고용자수 (%)')\n",
    "plt.show()"
   ]
  },
  {
   "cell_type": "code",
   "execution_count": null,
   "metadata": {},
   "outputs": [],
   "source": [
    "# [예제 4.44] 서울시의 고용자수, 세대수, 평균 아파트 매매가로 scatter 그래프 그리기(ch04/ 4.2 일자리.ipynb)\n",
    "\n",
    "plt.figure(figsize=(10, 6))\n",
    "plt.scatter(job_gugun['고용자수'], job_gugun['세대수'], c=job_gugun['평균매매가격'], s=pd.to_numeric(job_gugun['평균매매가격'])*0.001, cmap=\"YlOrRd\", alpha=0.5)\n",
    "plt.xlabel('고용자수')\n",
    "plt.ylabel('세대수')\n",
    "\n",
    "for name in job_gugun.index:\n",
    "    plt.text(job_gugun['고용자수'][name]*1.01, job_gugun['세대수'][name], name)\n",
    "    \n",
    "plt.colorbar()\n",
    "plt.show()"
   ]
  },
  {
   "cell_type": "code",
   "execution_count": null,
   "metadata": {},
   "outputs": [],
   "source": [
    "# [예제 4.45] 서울시의 고용비율, 세대수, 평균 아파트 매매가로 scatter 그래프 그리기\n",
    "\n",
    "plt.figure(figsize=(10, 6))\n",
    "plt.scatter(job_gugun['세대수대비고용'], job_gugun['세대수'], c=job_gugun['평균매매가격'], s=pd.to_numeric(job_gugun['평균매매가격'])*0.001, cmap=\"YlOrRd\", alpha=0.5)\n",
    "plt.xlabel('세대수 대비 고용자수 (%)')\n",
    "plt.ylabel('세대수')\n",
    "\n",
    "for name in job_gugun.index:\n",
    "    plt.text(job_gugun['세대수대비고용'][name]*1.01, job_gugun['세대수'][name], name)\n",
    "    \n",
    "plt.colorbar()\n",
    "plt.show()"
   ]
  }
 ],
 "metadata": {
  "kernelspec": {
   "display_name": "Python 3",
   "language": "python",
   "name": "python3"
  },
  "language_info": {
   "codemirror_mode": {
    "name": "ipython",
    "version": 3
   },
   "file_extension": ".py",
   "mimetype": "text/x-python",
   "name": "python",
   "nbconvert_exporter": "python",
   "pygments_lexer": "ipython3",
   "version": "3.7.4"
  }
 },
 "nbformat": 4,
 "nbformat_minor": 2
}
